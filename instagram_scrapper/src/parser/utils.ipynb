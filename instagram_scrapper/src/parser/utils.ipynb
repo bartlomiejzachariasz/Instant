{
 "cells": [
  {
   "cell_type": "code",
   "execution_count": 6,
   "metadata": {},
   "outputs": [],
   "source": [
    "import numpy as np"
   ]
  },
  {
   "cell_type": "code",
   "execution_count": 33,
   "metadata": {},
   "outputs": [],
   "source": [
    "def get_score(value):\n",
    "    distribution = np.logspace(-1,1,num=10,base=2.5)\n",
    "    idx = (np.abs(distribution - value)).argmin()\n",
    "    return idx+1"
   ]
  },
  {
   "cell_type": "code",
   "execution_count": 40,
   "metadata": {},
   "outputs": [
    {
     "data": {
      "text/plain": [
       "6"
      ]
     },
     "execution_count": 40,
     "metadata": {},
     "output_type": "execute_result"
    }
   ],
   "source": [
    "get_score(1.2)"
   ]
  },
  {
   "cell_type": "code",
   "execution_count": 45,
   "metadata": {},
   "outputs": [
    {
     "data": {
      "text/plain": [
       "['jamieout',\n",
       " 'dustinlefevre',\n",
       " 'candacedyar',\n",
       " 'erubes1',\n",
       " 'kilianschoenberger',\n",
       " 'trentblomfield',\n",
       " 'stianmklo',\n",
       " 'albertdrosphotography',\n",
       " 'everlook_photography',\n",
       " 'johannesnollmeyer',\n",
       " 'tomklockerphoto',\n",
       " 'tjthorne_photography',\n",
       " 'dag.ole.nordhaug',\n",
       " 'markjinksphoto',\n",
       " 'maxrivephotography',\n",
       " 'travisburkephotography',\n",
       " 'martinrakphoto',\n",
       " 'dansmoe',\n",
       " 'zeppaio',\n",
       " 'brunopisani.photos',\n",
       " 'erinbabnikphotography',\n",
       " 'iso100_photography',\n",
       " 'christianschaffer',\n",
       " 'chrisburkard',\n",
       " 'enrico.fossati',\n",
       " 'viktoriahaack',\n",
       " 'danielkordan',\n",
       " 'kateholsteinphoto',\n",
       " 'felixinden',\n",
       " 'mikkolagerstedt',\n",
       " 'itsworthashot',\n",
       " 'arturstanisz',\n",
       " 'noriegaphotography',\n",
       " 'digernes',\n",
       " 'africatracks',\n",
       " 'marcadamus',\n",
       " 'tiffpenguin',\n",
       " 'bejamin',\n",
       " 'alberthbyang',\n",
       " 'sarahmarinophoto',\n",
       " 'pedromcbride',\n",
       " 'marthasuherman.captures',\n",
       " 'shainblumphotography',\n",
       " 'sarahlyndsayphotography',\n",
       " 'clintburkinshaw',\n",
       " 'denemiles',\n",
       " 'antonyspencer',\n",
       " 'bengreenphotography',\n",
       " 'rachel_jones_ross',\n",
       " 'airpixels',\n",
       " 'cumacevikphoto',\n",
       " 'kylekotajarvi',\n",
       " 'davidthompsonphotography',\n",
       " 'sentinelphotography',\n",
       " 'merveceranphoto',\n",
       " 'elialocardi',\n",
       " 'storyofsage',\n",
       " 'alliemtaylor',\n",
       " 'hansgunnaraslaksen']"
      ]
     },
     "execution_count": 45,
     "metadata": {},
     "output_type": "execute_result"
    }
   ],
   "source": [
    "import os\n",
    "path = \"../scrap_data/\"\n",
    "[f for f in os.listdir(path) if not os.path.isfile(os.path.join(path, f))]"
   ]
  }
 ],
 "metadata": {
  "kernelspec": {
   "display_name": "Python 3",
   "language": "python",
   "name": "python3"
  },
  "language_info": {
   "codemirror_mode": {
    "name": "ipython",
    "version": 3
   },
   "file_extension": ".py",
   "mimetype": "text/x-python",
   "name": "python",
   "nbconvert_exporter": "python",
   "pygments_lexer": "ipython3",
   "version": "3.7.3"
  }
 },
 "nbformat": 4,
 "nbformat_minor": 2
}
