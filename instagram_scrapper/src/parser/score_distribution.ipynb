{
 "cells": [
  {
   "cell_type": "code",
   "execution_count": 106,
   "metadata": {},
   "outputs": [],
   "source": [
    "from scipy.stats import truncnorm\n",
    "import pandas as pd\n",
    "import numpy as np\n",
    "import matplotlib.pyplot as plt"
   ]
  },
  {
   "cell_type": "code",
   "execution_count": 154,
   "metadata": {},
   "outputs": [],
   "source": [
    "def get_truncated_normal(mean=1, sd=0.75, low=1, upp=10):\n",
    "    return truncnorm(\n",
    "        (low - mean) / sd, (upp - mean) / sd, loc=mean, scale=sd)"
   ]
  },
  {
   "cell_type": "code",
   "execution_count": 185,
   "metadata": {},
   "outputs": [],
   "source": [
    "result = pd.DataFrame(columns = np.arange(1,11))\n",
    "for i in range(1,11):\n",
    "    df = pd.Series(np.round(get_truncated_normal(mean=i).rvs(1000)))\n",
    "    indices = np.array((df.value_counts()/df.count()).index)\n",
    "    df = (df.value_counts()/df.count())\n",
    "    scores = np.zeros(10)\n",
    "    for ind in indices:\n",
    "        scores[int(ind)-1] = df[ind]\n",
    "\n",
    "    #plt.bar(np.arange(1,11),height = scores)\n",
    "\n",
    "    df = pd.DataFrame([scores], columns = np.arange(1,11))\n",
    "\n",
    "    result = pd.concat([result,df])\n",
    "result.index = np.arange(1,11)"
   ]
  },
  {
   "cell_type": "code",
   "execution_count": 183,
   "metadata": {},
   "outputs": [],
   "source": [
    "result.to_csv('scores_distribution.csv')"
   ]
  }
 ],
 "metadata": {
  "kernelspec": {
   "display_name": "Python 3",
   "language": "python",
   "name": "python3"
  },
  "language_info": {
   "codemirror_mode": {
    "name": "ipython",
    "version": 3
   },
   "file_extension": ".py",
   "mimetype": "text/x-python",
   "name": "python",
   "nbconvert_exporter": "python",
   "pygments_lexer": "ipython3",
   "version": "3.7.3"
  }
 },
 "nbformat": 4,
 "nbformat_minor": 2
}
