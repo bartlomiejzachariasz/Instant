{
 "cells": [
  {
   "cell_type": "code",
   "execution_count": 1,
   "metadata": {},
   "outputs": [],
   "source": [
    "from tensorflow.keras.applications.mobilenet_v2 import MobileNetV2,decode_predictions,preprocess_input\n",
    "from tensorflow.keras.preprocessing import image\n",
    "from tensorflow.keras.models import Model\n",
    "from tensorflow.keras.layers import Dense, GlobalAveragePooling2D, Dropout\n",
    "from tensorflow.keras.optimizers import Adam\n",
    "from sklearn.model_selection import train_test_split\n",
    "from tensorflow.keras.callbacks import ModelCheckpoint , EarlyStopping, Callback"
   ]
  },
  {
   "cell_type": "code",
   "execution_count": 2,
   "metadata": {},
   "outputs": [],
   "source": [
    "import my_utils\n",
    "import numpy as np\n",
    "from my_utils.my_utils import create_generator, LossHistory\n",
    "from IPython.display import clear_output\n",
    "import importlib\n",
    "importlib.reload(my_utils)\n",
    "import matplotlib.pyplot as plt\n",
    "from PIL import Image"
   ]
  },
  {
   "cell_type": "code",
   "execution_count": 3,
   "metadata": {},
   "outputs": [],
   "source": [
    "base_model = MobileNetV2(input_shape=(224,224,3),weights='imagenet', include_top=False)"
   ]
  },
  {
   "cell_type": "code",
   "execution_count": 4,
   "metadata": {},
   "outputs": [],
   "source": [
    "NUMBER_OF_PHOTOS = 30000\n",
    "input_shape = (224,224,3)\n",
    "batch_size = 50\n",
    "train_size = 0.9\n",
    "validation_size = 0.05\n",
    "test_size = 0.05"
   ]
  },
  {
   "cell_type": "code",
   "execution_count": 5,
   "metadata": {},
   "outputs": [],
   "source": [
    "train_generator = create_generator(start = 0,stop=train_size,batch_size=batch_size)\n",
    "validation_generator = create_generator(start = train_size,stop=train_size+validation_size,batch_size=batch_size)\n",
    "test_generator = create_generator(start = train_size+validation_size,stop=min(1,train_size+validation_size+test_size),batch_size=batch_size)"
   ]
  },
  {
   "cell_type": "code",
   "execution_count": 6,
   "metadata": {},
   "outputs": [],
   "source": [
    "x = base_model.output\n",
    "x = GlobalAveragePooling2D()(x)\n",
    "x = Dense(2048, activation='relu')(x)\n",
    "x = Dropout(0.7)(x)\n",
    "x = Dense(2048, activation='relu')(x)\n",
    "x = Dropout(0.7)(x)\n",
    "x = Dense(1024, activation='relu')(x)\n",
    "x = Dropout(0.5)(x)\n",
    "predictions = Dense(1, activation='linear')(x)"
   ]
  },
  {
   "cell_type": "code",
   "execution_count": 7,
   "metadata": {},
   "outputs": [],
   "source": [
    "model = Model(inputs=base_model.input, outputs=predictions)\n",
    "for layer in base_model.layers:\n",
    "    layer.trainable = False\n",
    "opt=Adam(learning_rate=0.001)\n",
    "model.compile(optimizer=opt, loss='mean_absolute_percentage_error')"
   ]
  },
  {
   "cell_type": "code",
   "execution_count": 8,
   "metadata": {},
   "outputs": [],
   "source": [
    "model_name = \"mob2gen09drop_deeper2\"\n",
    "history = Callback()\n",
    "checkpoint = ModelCheckpoint(filepath=\"../models/{}.h5\".format(model_name))\n",
    "stopping = EarlyStopping(patience=9,restore_best_weights = True)"
   ]
  },
  {
   "cell_type": "code",
   "execution_count": 9,
   "metadata": {},
   "outputs": [
    {
     "name": "stdout",
     "output_type": "stream",
     "text": [
      "Epoch 1/10\n",
      "540/540 [==============================] - 2146s 4s/step - loss: 39.0306 - val_loss: 48.4679\n",
      "Epoch 2/10\n",
      "540/540 [==============================] - 2131s 4s/step - loss: 27.4404 - val_loss: 26.5020\n",
      "Epoch 3/10\n",
      "540/540 [==============================] - 2127s 4s/step - loss: 23.7892 - val_loss: 22.4197\n",
      "Epoch 4/10\n",
      "540/540 [==============================] - 2127s 4s/step - loss: 23.5739 - val_loss: 22.1720\n",
      "Epoch 5/10\n",
      "540/540 [==============================] - 2127s 4s/step - loss: 23.4374 - val_loss: 21.9962\n",
      "Epoch 6/10\n",
      "540/540 [==============================] - 2129s 4s/step - loss: 23.3130 - val_loss: 22.2766\n",
      "Epoch 7/10\n",
      "540/540 [==============================] - 2126s 4s/step - loss: 23.1021 - val_loss: 21.8902\n",
      "Epoch 8/10\n",
      "540/540 [==============================] - 2131s 4s/step - loss: 23.0631 - val_loss: 21.8395\n",
      "Epoch 9/10\n",
      "540/540 [==============================] - 2129s 4s/step - loss: 23.0351 - val_loss: 21.8723\n",
      "Epoch 10/10\n",
      "540/540 [==============================] - 2122s 4s/step - loss: 22.9626 - val_loss: 21.9045\n"
     ]
    }
   ],
   "source": [
    "hist = model.fit_generator(generator=train_generator,\n",
    "                              steps_per_epoch=int(NUMBER_OF_PHOTOS*train_size/batch_size),\n",
    "                             validation_data=validation_generator,\n",
    "                             validation_steps=int(NUMBER_OF_PHOTOS*validation_size/batch_size), epochs = 10,callbacks=[history,checkpoint,stopping])"
   ]
  },
  {
   "cell_type": "code",
   "execution_count": 10,
   "metadata": {},
   "outputs": [
    {
     "data": {
      "text/plain": [
       "23.80438009897868"
      ]
     },
     "execution_count": 10,
     "metadata": {},
     "output_type": "execute_result"
    }
   ],
   "source": [
    "test_generator = create_generator(start = train_size+validation_size,stop=min(1,train_size+validation_size+test_size),batch_size=batch_size)\n",
    "model.evaluate_generator(test_generator,steps = int(NUMBER_OF_PHOTOS*test_size/batch_size))"
   ]
  },
  {
   "cell_type": "code",
   "execution_count": 11,
   "metadata": {},
   "outputs": [],
   "source": [
    "test_generator = create_generator(start = train_size+validation_size,stop=min(1,train_size+validation_size+test_size),batch_size=batch_size)\n",
    "Y_pred = model.predict_generator(test_generator,steps = int(NUMBER_OF_PHOTOS*test_size/batch_size))"
   ]
  },
  {
   "cell_type": "code",
   "execution_count": 20,
   "metadata": {},
   "outputs": [
    {
     "data": {
      "text/plain": [
       "Text(0.5, 1.0, 'Loss Curves for model mob2gen09drop_deeper2')"
      ]
     },
     "execution_count": 20,
     "metadata": {},
     "output_type": "execute_result"
    },
    {
     "data": {
      "image/png": "[encoded data removed]",
      "text/plain": [
       "<Figure size 576x432 with 1 Axes>"
      ]
     },
     "metadata": {
      "needs_background": "light"
     },
     "output_type": "display_data"
    }
   ],
   "source": [
    "# Loss Curves\n",
    "plt.figure(figsize=[8,6])\n",
    "plt.plot(hist.history['loss'][0:],'r',linewidth=3.0)\n",
    "plt.plot(hist.history['val_loss'][0:],'b',linewidth=3.0)\n",
    "plt.legend(['Training loss', 'Validation Loss'],fontsize=18)\n",
    "plt.xlabel('Epochs ',fontsize=16)\n",
    "plt.ylabel('Loss',fontsize=16)\n",
    "plt.title('Loss Curves for model {}'.format(model_name),fontsize=16)\n",
    "#plt.savefig(\"../pictures/{}.jpg\".format(model_name))"
   ]
  },
  {
   "cell_type": "code",
   "execution_count": 17,
   "metadata": {},
   "outputs": [],
   "source": [
    "# import json\n",
    "# with open(\"../models/{}.json\".format(model_name),\"w\") as f:\n",
    "#     json.dump(history.history,f)"
   ]
  }
 ],
 "metadata": {
  "kernelspec": {
   "display_name": "Python 3",
   "language": "python",
   "name": "python3"
  },
  "language_info": {
   "codemirror_mode": {
    "name": "ipython",
    "version": 3
   },
   "file_extension": ".py",
   "mimetype": "text/x-python",
   "name": "python",
   "nbconvert_exporter": "python",
   "pygments_lexer": "ipython3",
   "version": "3.7.3"
  }
 },
 "nbformat": 4,
 "nbformat_minor": 2
}
