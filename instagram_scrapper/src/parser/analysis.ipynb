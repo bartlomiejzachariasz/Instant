{
 "cells": [
  {
   "cell_type": "code",
   "execution_count": 1,
   "metadata": {},
   "outputs": [],
   "source": [
    "import my_utils\n",
    "import numpy as np\n",
    "from my_utils.my_utils import create_generator\n",
    "from IPython.display import clear_output\n",
    "import importlib\n",
    "importlib.reload(my_utils)\n",
    "import matplotlib.pyplot as plt"
   ]
  },
  {
   "cell_type": "code",
   "execution_count": 25,
   "metadata": {},
   "outputs": [],
   "source": [
    "import pandas as pd"
   ]
  },
  {
   "cell_type": "code",
   "execution_count": 8,
   "metadata": {},
   "outputs": [],
   "source": [
    "NUMBER_OF_PHOTOS = 30000\n",
    "batch_size=500"
   ]
  },
  {
   "cell_type": "code",
   "execution_count": 12,
   "metadata": {},
   "outputs": [],
   "source": [
    "labels = np.ndarray(shape=(0,))\n",
    "iterations = NUMBER_OF_PHOTOS/batch_size\n",
    "for i,(X,Y) in enumerate(create_generator(stop = 1,batch_size=batch_size)):\n",
    "    labels = np.concatenate([labels,Y])\n",
    "    if i+1==iterations:\n",
    "        break"
   ]
  },
  {
   "cell_type": "code",
   "execution_count": 27,
   "metadata": {},
   "outputs": [],
   "source": [
    "df = pd.DataFrame(labels)"
   ]
  },
  {
   "cell_type": "code",
   "execution_count": 29,
   "metadata": {},
   "outputs": [
    {
     "data": {
      "text/html": [
       "<div>\n",
       "<style scoped>\n",
       "    .dataframe tbody tr th:only-of-type {\n",
       "        vertical-align: middle;\n",
       "    }\n",
       "\n",
       "    .dataframe tbody tr th {\n",
       "        vertical-align: top;\n",
       "    }\n",
       "\n",
       "    .dataframe thead th {\n",
       "        text-align: right;\n",
       "    }\n",
       "</style>\n",
       "<table border=\"1\" class=\"dataframe\">\n",
       "  <thead>\n",
       "    <tr style=\"text-align: right;\">\n",
       "      <th></th>\n",
       "      <th>0</th>\n",
       "    </tr>\n",
       "  </thead>\n",
       "  <tbody>\n",
       "    <tr>\n",
       "      <th>count</th>\n",
       "      <td>30000.000000</td>\n",
       "    </tr>\n",
       "    <tr>\n",
       "      <th>mean</th>\n",
       "      <td>1.020947</td>\n",
       "    </tr>\n",
       "    <tr>\n",
       "      <th>std</th>\n",
       "      <td>0.332524</td>\n",
       "    </tr>\n",
       "    <tr>\n",
       "      <th>min</th>\n",
       "      <td>0.064852</td>\n",
       "    </tr>\n",
       "    <tr>\n",
       "      <th>25%</th>\n",
       "      <td>0.824686</td>\n",
       "    </tr>\n",
       "    <tr>\n",
       "      <th>50%</th>\n",
       "      <td>0.978310</td>\n",
       "    </tr>\n",
       "    <tr>\n",
       "      <th>75%</th>\n",
       "      <td>1.159269</td>\n",
       "    </tr>\n",
       "    <tr>\n",
       "      <th>max</th>\n",
       "      <td>10.007261</td>\n",
       "    </tr>\n",
       "  </tbody>\n",
       "</table>\n",
       "</div>"
      ],
      "text/plain": [
       "                  0\n",
       "count  30000.000000\n",
       "mean       1.020947\n",
       "std        0.332524\n",
       "min        0.064852\n",
       "25%        0.824686\n",
       "50%        0.978310\n",
       "75%        1.159269\n",
       "max       10.007261"
      ]
     },
     "execution_count": 29,
     "metadata": {},
     "output_type": "execute_result"
    }
   ],
   "source": [
    "df.describe()"
   ]
  },
  {
   "cell_type": "code",
   "execution_count": 35,
   "metadata": {},
   "outputs": [
    {
     "data": {
      "text/plain": [
       "(array([1.300e+01, 3.600e+01, 1.130e+02, 2.410e+02, 6.380e+02, 1.398e+03,\n",
       "        2.628e+03, 4.078e+03, 4.911e+03, 4.667e+03, 3.754e+03, 2.535e+03,\n",
       "        1.646e+03, 1.079e+03, 6.850e+02, 4.760e+02, 3.050e+02, 2.020e+02,\n",
       "        1.620e+02, 1.070e+02, 7.200e+01, 5.400e+01, 3.900e+01, 2.800e+01,\n",
       "        2.700e+01, 1.300e+01, 1.500e+01, 1.000e+01, 1.100e+01, 1.100e+01,\n",
       "        1.000e+01, 8.000e+00, 4.000e+00, 5.000e+00, 1.000e+00, 3.000e+00,\n",
       "        2.000e+00, 1.000e+00, 0.000e+00, 1.000e+00, 0.000e+00, 0.000e+00,\n",
       "        0.000e+00, 0.000e+00, 0.000e+00, 0.000e+00, 1.000e+00, 0.000e+00,\n",
       "        2.000e+00, 1.000e+00, 0.000e+00, 1.000e+00, 0.000e+00, 0.000e+00,\n",
       "        0.000e+00, 1.000e+00, 1.000e+00, 0.000e+00, 0.000e+00, 1.000e+00,\n",
       "        0.000e+00, 0.000e+00, 0.000e+00, 1.000e+00, 0.000e+00, 0.000e+00,\n",
       "        0.000e+00, 0.000e+00, 0.000e+00, 0.000e+00, 0.000e+00, 0.000e+00,\n",
       "        0.000e+00, 0.000e+00, 0.000e+00, 0.000e+00, 0.000e+00, 0.000e+00,\n",
       "        0.000e+00, 0.000e+00, 0.000e+00, 0.000e+00, 0.000e+00, 0.000e+00,\n",
       "        0.000e+00, 0.000e+00, 0.000e+00, 0.000e+00, 0.000e+00, 0.000e+00,\n",
       "        0.000e+00, 0.000e+00, 0.000e+00, 0.000e+00, 0.000e+00, 1.000e+00,\n",
       "        0.000e+00, 0.000e+00, 0.000e+00, 1.000e+00]),\n",
       " array([ 0.06485207,  0.16427616,  0.26370025,  0.36312434,  0.46254843,\n",
       "         0.56197252,  0.66139661,  0.7608207 ,  0.86024479,  0.95966888,\n",
       "         1.05909297,  1.15851707,  1.25794116,  1.35736525,  1.45678934,\n",
       "         1.55621343,  1.65563752,  1.75506161,  1.8544857 ,  1.95390979,\n",
       "         2.05333388,  2.15275797,  2.25218206,  2.35160615,  2.45103024,\n",
       "         2.55045433,  2.64987842,  2.74930251,  2.8487266 ,  2.94815069,\n",
       "         3.04757478,  3.14699887,  3.24642296,  3.34584705,  3.44527114,\n",
       "         3.54469523,  3.64411932,  3.74354342,  3.84296751,  3.9423916 ,\n",
       "         4.04181569,  4.14123978,  4.24066387,  4.34008796,  4.43951205,\n",
       "         4.53893614,  4.63836023,  4.73778432,  4.83720841,  4.9366325 ,\n",
       "         5.03605659,  5.13548068,  5.23490477,  5.33432886,  5.43375295,\n",
       "         5.53317704,  5.63260113,  5.73202522,  5.83144931,  5.9308734 ,\n",
       "         6.03029749,  6.12972158,  6.22914567,  6.32856977,  6.42799386,\n",
       "         6.52741795,  6.62684204,  6.72626613,  6.82569022,  6.92511431,\n",
       "         7.0245384 ,  7.12396249,  7.22338658,  7.32281067,  7.42223476,\n",
       "         7.52165885,  7.62108294,  7.72050703,  7.81993112,  7.91935521,\n",
       "         8.0187793 ,  8.11820339,  8.21762748,  8.31705157,  8.41647566,\n",
       "         8.51589975,  8.61532384,  8.71474793,  8.81417202,  8.91359612,\n",
       "         9.01302021,  9.1124443 ,  9.21186839,  9.31129248,  9.41071657,\n",
       "         9.51014066,  9.60956475,  9.70898884,  9.80841293,  9.90783702,\n",
       "        10.00726111]),\n",
       " <a list of 100 Patch objects>)"
      ]
     },
     "execution_count": 35,
     "metadata": {},
     "output_type": "execute_result"
    },
    {
     "data": {
      "image/png": "[encoded data removed]",
      "text/plain": [
       "<Figure size 432x288 with 1 Axes>"
      ]
     },
     "metadata": {
      "needs_background": "light"
     },
     "output_type": "display_data"
    }
   ],
   "source": [
    "plt.hist(labels, bins = 100)"
   ]
  }
 ],
 "metadata": {
  "kernelspec": {
   "display_name": "Python 3",
   "language": "python",
   "name": "python3"
  },
  "language_info": {
   "codemirror_mode": {
    "name": "ipython",
    "version": 3
   },
   "file_extension": ".py",
   "mimetype": "text/x-python",
   "name": "python",
   "nbconvert_exporter": "python",
   "pygments_lexer": "ipython3",
   "version": "3.7.3"
  }
 },
 "nbformat": 4,
 "nbformat_minor": 2
}
